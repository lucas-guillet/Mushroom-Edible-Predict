{
 "cells": [
  {
   "cell_type": "code",
   "execution_count": null,
   "id": "518645aa-5696-48d5-888c-69aa734a741c",
   "metadata": {},
   "outputs": [],
   "source": []
  }
 ],
 "metadata": {
  "kernelspec": {
   "display_name": "",
   "name": ""
  },
  "language_info": {
   "name": ""
  }
 },
 "nbformat": 4,
 "nbformat_minor": 5
}
