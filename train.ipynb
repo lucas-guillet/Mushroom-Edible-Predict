{
 "cells": [
  {
   "cell_type": "code",
   "execution_count": 23,
   "id": "79d2a624-bd95-4bd8-a7e8-167991d79cb9",
   "metadata": {},
   "outputs": [],
   "source": [
    "import pickle"
   ]
  },
  {
   "cell_type": "markdown",
   "id": "1e619c11-dde6-4676-ad42-29916fb54f85",
   "metadata": {},
   "source": [
    "## Load model with pickle>"
   ]
  },
  {
   "cell_type": "code",
   "execution_count": 24,
   "id": "71492b98-13cd-498a-bbd5-255263d23917",
   "metadata": {},
   "outputs": [],
   "source": [
    "model_file = 'model_rf_max_depth=10_minsampleleaf=10.bin'"
   ]
  },
  {
   "cell_type": "code",
   "execution_count": 25,
   "id": "d7b4cb9e-0087-495d-8757-b38baf859ff7",
   "metadata": {},
   "outputs": [],
   "source": [
    "with open(model_file, 'rb') as f_in: # very important to use 'rb' here, it means read-binary \n",
    "    dv, model = pickle.load(f_in)"
   ]
  },
  {
   "cell_type": "code",
   "execution_count": 26,
   "id": "70aad865-9518-48d0-be4c-2623e3b15f68",
   "metadata": {},
   "outputs": [
    {
     "data": {
      "text/plain": [
       "(DictVectorizer(sparse=False),\n",
       " RandomForestClassifier(max_depth=10, min_samples_leaf=10, random_state=42))"
      ]
     },
     "execution_count": 26,
     "metadata": {},
     "output_type": "execute_result"
    }
   ],
   "source": [
    "dv, model"
   ]
  },
  {
   "cell_type": "markdown",
   "id": "516a83e9-dd65-4314-a250-1d3e5892d027",
   "metadata": {},
   "source": [
    "## Make predictions using the loaded model"
   ]
  },
  {
   "cell_type": "code",
   "execution_count": 27,
   "id": "b032e29e-2aa9-4383-83dd-0eaacafaa2d6",
   "metadata": {},
   "outputs": [],
   "source": [
    "person = {'gender': 'male',\n",
    "           'age': 60.0,\n",
    "           'hypertension': 0,\n",
    "           'heart_disease': 0,\n",
    "           'ever_married': 'yes',\n",
    "           'work_type': 'private',\n",
    "           'residence_type': 'urban',\n",
    "           'avg_glucose_level': 186.21,\n",
    "           'bmi': 29.0,\n",
    "           'smoking_status': 'formerly_smoked'}"
   ]
  },
  {
   "cell_type": "code",
   "execution_count": 28,
   "id": "670e156c-8ae1-4e99-be33-e1ab0cd0ed9c",
   "metadata": {},
   "outputs": [],
   "source": [
    "X = dv.transform([person])"
   ]
  },
  {
   "cell_type": "code",
   "execution_count": 29,
   "id": "2dcd2918-b139-4f0c-9b1a-3aa6dbfc5d20",
   "metadata": {},
   "outputs": [],
   "source": [
    "y_pred = model.predict_proba(X)[0,1]"
   ]
  },
  {
   "cell_type": "code",
   "execution_count": 30,
   "id": "9f3aa471-a91c-4c31-9690-19e65a57a3b9",
   "metadata": {},
   "outputs": [
    {
     "name": "stdout",
     "output_type": "stream",
     "text": [
      "Input:{'gender': 'male', 'age': 60.0, 'hypertension': 0, 'heart_disease': 0, 'ever_married': 'yes', 'work_type': 'private', 'residence_type': 'urban', 'avg_glucose_level': 186.21, 'bmi': 29.0, 'smoking_status': 'formerly_smoked'}\n",
      "Stroke Probability is 0.5616423881092725\n"
     ]
    }
   ],
   "source": [
    "print(f'Input:{person}')\n",
    "print(f'Stroke Probability is {y_pred}')"
   ]
  },
  {
   "cell_type": "code",
   "execution_count": null,
   "id": "c5dca32e-ed75-4e3a-a03d-6e567ce48753",
   "metadata": {},
   "outputs": [],
   "source": []
  }
 ],
 "metadata": {
  "kernelspec": {
   "display_name": "Python 3 (ipykernel)",
   "language": "python",
   "name": "python3"
  },
  "language_info": {
   "codemirror_mode": {
    "name": "ipython",
    "version": 3
   },
   "file_extension": ".py",
   "mimetype": "text/x-python",
   "name": "python",
   "nbconvert_exporter": "python",
   "pygments_lexer": "ipython3",
   "version": "3.12.1"
  }
 },
 "nbformat": 4,
 "nbformat_minor": 5
}
